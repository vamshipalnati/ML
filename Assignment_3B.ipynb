{
 "cells": [
  {
   "cell_type": "code",
   "execution_count": 4,
   "metadata": {},
   "outputs": [],
   "source": [
    "x0=2\n",
    "y0=3\n",
    "eta=0.01\n",
    "eps=0.000001\n",
    "del_x=1\n",
    "del_y=1\n",
    "max_iter=100\n",
    "iters=0"
   ]
  },
  {
   "cell_type": "code",
   "execution_count": 5,
   "metadata": {},
   "outputs": [],
   "source": [
    "import math\n",
    "def diff(x,y):\n",
    "    x_der=6*(x)\n",
    "    y_der=-5*(math.exp(-y))\n",
    "    return x_der,y_der"
   ]
  },
  {
   "cell_type": "code",
   "execution_count": 6,
   "metadata": {},
   "outputs": [
    {
     "name": "stdout",
     "output_type": "stream",
     "text": [
      "Local minimum =  0.004109749541047198 3.222513357120518\n"
     ]
    }
   ],
   "source": [
    "while max(abs(del_x),abs(del_y))>eps and iters<max_iter:\n",
    "    p_x=x0\n",
    "    p_y=y0\n",
    "    del_x,del_y=diff(p_x,p_y)\n",
    "    del_x=-eta*del_x\n",
    "    del_y=-eta*del_y\n",
    "    x0=x0+del_x\n",
    "    y0=y0+del_y\n",
    "    iters=iters+1\n",
    "    \n",
    "print(\"Local minimum = \",x0,y0)\n"
   ]
  },
  {
   "cell_type": "code",
   "execution_count": null,
   "metadata": {},
   "outputs": [],
   "source": []
  },
  {
   "cell_type": "code",
   "execution_count": null,
   "metadata": {},
   "outputs": [],
   "source": []
  }
 ],
 "metadata": {
  "kernelspec": {
   "display_name": "Python 3",
   "language": "python",
   "name": "python3"
  },
  "language_info": {
   "codemirror_mode": {
    "name": "ipython",
    "version": 3
   },
   "file_extension": ".py",
   "mimetype": "text/x-python",
   "name": "python",
   "nbconvert_exporter": "python",
   "pygments_lexer": "ipython3",
   "version": "3.7.1"
  }
 },
 "nbformat": 4,
 "nbformat_minor": 2
}
