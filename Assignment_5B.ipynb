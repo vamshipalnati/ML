{
 "cells": [
  {
   "cell_type": "code",
   "execution_count": 12,
   "metadata": {
    "colab": {
     "base_uri": "https://localhost:8080/",
     "height": 221
    },
    "colab_type": "code",
    "id": "sXAjFerWRK6H",
    "outputId": "799c91c4-cd87-4f6a-88ce-e0782bced7cf"
   },
   "outputs": [],
   "source": [
    "import pandas as pd\n",
    "import numpy as np\n",
    "data=pd.read_csv('base2.csv')"
   ]
  },
  {
   "cell_type": "code",
   "execution_count": 13,
   "metadata": {
    "colab": {
     "base_uri": "https://localhost:8080/",
     "height": 204
    },
    "colab_type": "code",
    "id": "-_a6vdq5R8hR",
    "outputId": "7b2afb4d-68b9-47a3-e624-79c500c40516"
   },
   "outputs": [],
   "source": [
    "from sklearn import preprocessing\n",
    "data= preprocessing.normalize(data)"
   ]
  },
  {
   "cell_type": "code",
   "execution_count": 14,
   "metadata": {
    "colab": {
     "base_uri": "https://localhost:8080/",
     "height": 52
    },
    "colab_type": "code",
    "id": "6HTtGQX_gcj9",
    "outputId": "92268e8a-ff0c-40de-a4ac-1b770f656258"
   },
   "outputs": [
    {
     "data": {
      "text/html": [
       "<div>\n",
       "<style scoped>\n",
       "    .dataframe tbody tr th:only-of-type {\n",
       "        vertical-align: middle;\n",
       "    }\n",
       "\n",
       "    .dataframe tbody tr th {\n",
       "        vertical-align: top;\n",
       "    }\n",
       "\n",
       "    .dataframe thead th {\n",
       "        text-align: right;\n",
       "    }\n",
       "</style>\n",
       "<table border=\"1\" class=\"dataframe\">\n",
       "  <thead>\n",
       "    <tr style=\"text-align: right;\">\n",
       "      <th></th>\n",
       "      <th>X</th>\n",
       "      <th>Y</th>\n",
       "    </tr>\n",
       "  </thead>\n",
       "  <tbody>\n",
       "    <tr>\n",
       "      <th>1</th>\n",
       "      <td>0.127715</td>\n",
       "      <td>0.991811</td>\n",
       "    </tr>\n",
       "    <tr>\n",
       "      <th>2</th>\n",
       "      <td>0.153527</td>\n",
       "      <td>0.988144</td>\n",
       "    </tr>\n",
       "    <tr>\n",
       "      <th>3</th>\n",
       "      <td>0.194290</td>\n",
       "      <td>0.980944</td>\n",
       "    </tr>\n",
       "    <tr>\n",
       "      <th>4</th>\n",
       "      <td>0.169590</td>\n",
       "      <td>0.985515</td>\n",
       "    </tr>\n",
       "    <tr>\n",
       "      <th>5</th>\n",
       "      <td>0.262800</td>\n",
       "      <td>0.964850</td>\n",
       "    </tr>\n",
       "  </tbody>\n",
       "</table>\n",
       "</div>"
      ],
      "text/plain": [
       "          X         Y\n",
       "1  0.127715  0.991811\n",
       "2  0.153527  0.988144\n",
       "3  0.194290  0.980944\n",
       "4  0.169590  0.985515\n",
       "5  0.262800  0.964850"
      ]
     },
     "execution_count": 14,
     "metadata": {},
     "output_type": "execute_result"
    }
   ],
   "source": [
    "data= pd.DataFrame(data=data, columns=[\"X\", \"Y\"])\n",
    "data[1:6]  #just to display 5 rows you can use data to display entire data "
   ]
  },
  {
   "cell_type": "code",
   "execution_count": 15,
   "metadata": {
    "colab": {},
    "colab_type": "code",
    "id": "Kzl35T_qSt3G"
   },
   "outputs": [],
   "source": [
    "from sklearn.model_selection import train_test_split\n",
    "x_train, x_test, y_train, y_test = train_test_split(data.X, data.Y, test_size = 0.10, random_state = 4)"
   ]
  },
  {
   "cell_type": "code",
   "execution_count": 16,
   "metadata": {
    "colab": {
     "base_uri": "https://localhost:8080/",
     "height": 1000
    },
    "colab_type": "code",
    "id": "xipIqE7xYnYz",
    "outputId": "89bf276b-391a-4a11-90b3-4a9576cc58ec"
   },
   "outputs": [
    {
     "name": "stdout",
     "output_type": "stream",
     "text": [
      "\n",
      "The local minima occurs at: 1.0810188152740843, -0.4486578151748965\n"
     ]
    }
   ],
   "source": [
    "m = 1 #Initial value of slope\n",
    "c = -1 #Initial value of intercept\n",
    "lr = 0.01 #Learning Rate\n",
    "delta_m = 1 #Initialising Δm\n",
    "delta_c = 1 #Initialising Δc\n",
    "max_iters = 1000 #Maximum number of iterations  \n",
    "iters_count = 0 #Counting Iterations\n",
    "\n",
    "def deriv(m_f, c_f, datax, datay):\n",
    "    m_deriv = 0\n",
    "    c_deriv = 0\n",
    "    for i in range(datax.shape[0]):\n",
    "        x, y = datax.iloc[i], datay.iloc[i]\n",
    "        m_deriv += (y-m_f*x-c_f)*x\n",
    "        c_deriv += (y-m_f*x-c_f)\n",
    "        m_deriv = -m_deriv/len(datax)\n",
    "        c_deriv = -c_deriv/len(datay)\n",
    "    return m_deriv, c_deriv  \n",
    "\n",
    "\n",
    "while iters_count < max_iters:\n",
    "    delta_m, delta_c = deriv(m, c, x_train, y_train)\n",
    "    delta_m = -lr * delta_m\n",
    "    delta_c = -lr * delta_c\n",
    "    m += delta_m\n",
    "    c += delta_c\n",
    "    iters_count += 1\n",
    "\n",
    "print(f\"\\nThe local minima occurs at: {m}, {c}\")"
   ]
  },
  {
   "cell_type": "code",
   "execution_count": 17,
   "metadata": {
    "colab": {},
    "colab_type": "code",
    "id": "fOw-XJXVN3PI"
   },
   "outputs": [],
   "source": [
    "x_train = np.array(x_train)\n",
    "y_train = np.array(y_train)\n",
    "x_test = np.array(x_test)\n",
    "y_test = np.array(y_test)"
   ]
  },
  {
   "cell_type": "code",
   "execution_count": 18,
   "metadata": {
    "colab": {},
    "colab_type": "code",
    "id": "4rxVoWgCMz8O"
   },
   "outputs": [],
   "source": [
    "i=0\n",
    "y_pred=[]\n",
    "while i<27:\n",
    "    y_predict=(m*x_train[i])-c\n",
    "    y_pred.append(y_predict)\n",
    "    i=i+1"
   ]
  },
  {
   "cell_type": "code",
   "execution_count": 19,
   "metadata": {
    "colab": {},
    "colab_type": "code",
    "id": "3oy_w8HTQ2uN"
   },
   "outputs": [],
   "source": [
    "i=0\n",
    "yt_pred=[]\n",
    "while i<3:\n",
    "    yt_predict=(m*x_test[i])-c\n",
    "    yt_pred.append(yt_predict)\n",
    "    i=i+1"
   ]
  },
  {
   "cell_type": "code",
   "execution_count": 20,
   "metadata": {
    "colab": {
     "base_uri": "https://localhost:8080/",
     "height": 68
    },
    "colab_type": "code",
    "id": "kQ-5I5-GLK9p",
    "outputId": "d790d2d9-9369-4b90-a2fb-66150f6b9ccd"
   },
   "outputs": [],
   "source": [
    "import math\n",
    "from sklearn.metrics import mean_squared_error \n",
    "from sklearn.metrics import mean_absolute_error\n",
    "\n",
    "\n",
    "def accuracy_op(y_train,y_pred):\n",
    "    mse = math.sqrt(mean_squared_error(y_train,y_pred)) \n",
    "    print('Root mean square error', mse) \n",
    "    mse = (mean_squared_error(y_train,y_pred)) \n",
    "    print('Mean square error', mse) \n",
    "    mae=mean_absolute_error(y_train, y_pred)\n",
    "    print('Mean absolute error', mae)"
   ]
  },
  {
   "cell_type": "code",
   "execution_count": 21,
   "metadata": {
    "colab": {
     "base_uri": "https://localhost:8080/",
     "height": 68
    },
    "colab_type": "code",
    "id": "dzyEPI-DRLdB",
    "outputId": "e609b2dc-be5b-48c5-9d06-86c2ba2e1170"
   },
   "outputs": [
    {
     "name": "stdout",
     "output_type": "stream",
     "text": [
      "Root mean square error 0.35245694969330976\n",
      "Mean square error 0.12422590138711227\n",
      "Mean absolute error 0.3490632954931027\n",
      "None\n"
     ]
    }
   ],
   "source": [
    "print(accuracy_op(y_train,y_pred))\n"
   ]
  },
  {
   "cell_type": "code",
   "execution_count": 22,
   "metadata": {},
   "outputs": [
    {
     "name": "stdout",
     "output_type": "stream",
     "text": [
      "Root mean square error 0.3331150635708305\n",
      "Mean square error 0.11096564557779842\n",
      "Mean absolute error 0.33143955710112444\n",
      "None\n"
     ]
    }
   ],
   "source": [
    "print(accuracy_op(y_test,yt_pred))\n"
   ]
  },
  {
   "cell_type": "code",
   "execution_count": null,
   "metadata": {},
   "outputs": [],
   "source": []
  }
 ],
 "metadata": {
  "colab": {
   "collapsed_sections": [],
   "name": "Assignment-5B.ipynb",
   "provenance": []
  },
  "kernelspec": {
   "display_name": "Python 3",
   "language": "python",
   "name": "python3"
  },
  "language_info": {
   "codemirror_mode": {
    "name": "ipython",
    "version": 3
   },
   "file_extension": ".py",
   "mimetype": "text/x-python",
   "name": "python",
   "nbconvert_exporter": "python",
   "pygments_lexer": "ipython3",
   "version": "3.7.1"
  }
 },
 "nbformat": 4,
 "nbformat_minor": 1
}
