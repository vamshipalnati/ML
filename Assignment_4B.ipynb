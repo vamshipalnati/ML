{
 "cells": [
  {
   "cell_type": "code",
   "execution_count": 16,
   "metadata": {
    "colab": {},
    "colab_type": "code",
    "id": "h2PmTSALlHCk"
   },
   "outputs": [],
   "source": [
    "import pandas as pd\n",
    "import numpy as np\n",
    "data=pd.read_csv('base1.csv')"
   ]
  },
  {
   "cell_type": "code",
   "execution_count": 17,
   "metadata": {},
   "outputs": [],
   "source": [
    "from sklearn import preprocessing\n",
    "data= preprocessing.normalize(data)"
   ]
  },
  {
   "cell_type": "code",
   "execution_count": 18,
   "metadata": {},
   "outputs": [
    {
     "data": {
      "text/plain": [
       "array([[0.04077067, 0.99916853],\n",
       "       [0.04680579, 0.99890401],\n",
       "       [0.03986191, 0.9992052 ],\n",
       "       [0.04323439, 0.99906496],\n",
       "       [0.05446449, 0.99851571]])"
      ]
     },
     "execution_count": 18,
     "metadata": {},
     "output_type": "execute_result"
    }
   ],
   "source": [
    "data[1:6]  #just to display 5 rows you can use data to display entire data "
   ]
  },
  {
   "cell_type": "code",
   "execution_count": 19,
   "metadata": {},
   "outputs": [],
   "source": [
    "from sklearn.preprocessing import StandardScaler\n",
    "\n",
    "scaler = StandardScaler()\n",
    "data = scaler.fit_transform(data)\n"
   ]
  },
  {
   "cell_type": "code",
   "execution_count": 20,
   "metadata": {},
   "outputs": [
    {
     "data": {
      "text/plain": [
       "array([[-0.61257948,  0.46800312],\n",
       "       [-0.47740515,  0.41858898],\n",
       "       [-0.63293386,  0.47485283],\n",
       "       [-0.55739718,  0.44865495],\n",
       "       [-0.30586578,  0.34605236]])"
      ]
     },
     "execution_count": 20,
     "metadata": {},
     "output_type": "execute_result"
    }
   ],
   "source": [
    "data[1:6]  #just to display 5 rows you can use data to display entire data"
   ]
  },
  {
   "cell_type": "code",
   "execution_count": 21,
   "metadata": {},
   "outputs": [
    {
     "data": {
      "text/html": [
       "<div>\n",
       "<style scoped>\n",
       "    .dataframe tbody tr th:only-of-type {\n",
       "        vertical-align: middle;\n",
       "    }\n",
       "\n",
       "    .dataframe tbody tr th {\n",
       "        vertical-align: top;\n",
       "    }\n",
       "\n",
       "    .dataframe thead th {\n",
       "        text-align: right;\n",
       "    }\n",
       "</style>\n",
       "<table border=\"1\" class=\"dataframe\">\n",
       "  <thead>\n",
       "    <tr style=\"text-align: right;\">\n",
       "      <th></th>\n",
       "      <th>X</th>\n",
       "      <th>Y</th>\n",
       "    </tr>\n",
       "  </thead>\n",
       "  <tbody>\n",
       "    <tr>\n",
       "      <th>1</th>\n",
       "      <td>-0.612579</td>\n",
       "      <td>0.468003</td>\n",
       "    </tr>\n",
       "    <tr>\n",
       "      <th>2</th>\n",
       "      <td>-0.477405</td>\n",
       "      <td>0.418589</td>\n",
       "    </tr>\n",
       "    <tr>\n",
       "      <th>3</th>\n",
       "      <td>-0.632934</td>\n",
       "      <td>0.474853</td>\n",
       "    </tr>\n",
       "    <tr>\n",
       "      <th>4</th>\n",
       "      <td>-0.557397</td>\n",
       "      <td>0.448655</td>\n",
       "    </tr>\n",
       "    <tr>\n",
       "      <th>5</th>\n",
       "      <td>-0.305866</td>\n",
       "      <td>0.346052</td>\n",
       "    </tr>\n",
       "  </tbody>\n",
       "</table>\n",
       "</div>"
      ],
      "text/plain": [
       "          X         Y\n",
       "1 -0.612579  0.468003\n",
       "2 -0.477405  0.418589\n",
       "3 -0.632934  0.474853\n",
       "4 -0.557397  0.448655\n",
       "5 -0.305866  0.346052"
      ]
     },
     "execution_count": 21,
     "metadata": {},
     "output_type": "execute_result"
    }
   ],
   "source": [
    "data= pd.DataFrame(data=data, columns=[\"X\", \"Y\"])\n",
    "data[1:6]  #just to display 5 rows you can use data to display entire data"
   ]
  },
  {
   "cell_type": "code",
   "execution_count": 22,
   "metadata": {},
   "outputs": [],
   "source": [
    "from sklearn.model_selection import train_test_split\n",
    "x_train, x_test, y_train, y_test = train_test_split(data.X, data.Y, test_size = 0.10, random_state = 4)"
   ]
  },
  {
   "cell_type": "code",
   "execution_count": 23,
   "metadata": {},
   "outputs": [
    {
     "name": "stdout",
     "output_type": "stream",
     "text": [
      "\n",
      "The local minima occurs at: -1.1188517188013225, -0.056412455668215664\n"
     ]
    }
   ],
   "source": [
    "m = 1 #Initial value of slope\n",
    "c = -1 #Initial value of intercept\n",
    "lr = 0.1 #Learning Rate\n",
    "delta_m = 1 #Initialising Δm\n",
    "delta_c = 1 #Initialising Δc\n",
    "max_iters = 1000 #Maximum number of iterations  \n",
    "iters_count = 0 #Counting Iterations\n",
    "#samples = 30\n",
    "\n",
    "def deriv(m_f, c_f, x, y):\n",
    "    m_deriv = -1*(y-m_f*x-c_f)*x\n",
    "    c_deriv = -1*(y-m_f*x-c_f)\n",
    "    return m_deriv, c_deriv  \n",
    "\n",
    "\n",
    "while iters_count < max_iters:\n",
    "    for i in range(x_train.shape[0]):\n",
    "        delta_m, delta_c = deriv(m, c, x_train.iloc[i], y_train.iloc[i])\n",
    "        delta_m = -lr * delta_m\n",
    "        delta_c = -lr * delta_c\n",
    "        m += delta_m\n",
    "        c += delta_c\n",
    "    iters_count += 1\n",
    "\n",
    "print(f\"\\nThe local minima occurs at: {m}, {c}\")\n"
   ]
  },
  {
   "cell_type": "code",
   "execution_count": 24,
   "metadata": {},
   "outputs": [],
   "source": [
    "x_train = np.array(x_train)\n",
    "y_train = np.array(y_train)\n",
    "x_test = np.array(x_test)\n",
    "y_test = np.array(y_test)"
   ]
  },
  {
   "cell_type": "code",
   "execution_count": 25,
   "metadata": {},
   "outputs": [],
   "source": [
    "i=0\n",
    "y_pred=[]\n",
    "while i<30:\n",
    "    y_predict=(m*x_train[i])-c\n",
    "    y_pred.append(y_predict)\n",
    "    i=i+1"
   ]
  },
  {
   "cell_type": "code",
   "execution_count": 26,
   "metadata": {},
   "outputs": [],
   "source": [
    "i=0\n",
    "yt_pred=[]\n",
    "while i<4:\n",
    "    yt_predict=(m*x_test[i])-c\n",
    "    yt_pred.append(yt_predict)\n",
    "    i=i+1"
   ]
  },
  {
   "cell_type": "code",
   "execution_count": 27,
   "metadata": {},
   "outputs": [],
   "source": [
    "import math\n",
    "from sklearn.metrics import mean_squared_error \n",
    "from sklearn.metrics import mean_absolute_error"
   ]
  },
  {
   "cell_type": "code",
   "execution_count": 28,
   "metadata": {},
   "outputs": [],
   "source": [
    "def accuracy_op(y_train,y_pred):\n",
    "    mse = math.sqrt(mean_squared_error(y_train,y_pred)) \n",
    "    print('Root mean square error', mse) \n",
    "    mse = (mean_squared_error(y_train,y_pred)) \n",
    "    print('Mean square error', mse) \n",
    "    mae=mean_absolute_error(y_train, y_pred)\n",
    "    print('Mean absolute error', mae)"
   ]
  },
  {
   "cell_type": "code",
   "execution_count": 29,
   "metadata": {},
   "outputs": [
    {
     "name": "stdout",
     "output_type": "stream",
     "text": [
      "Root mean square error 0.3026186728195807\n",
      "Mean square error 0.09157806113908444\n",
      "Mean absolute error 0.26194600083687936\n",
      "None\n"
     ]
    }
   ],
   "source": [
    "print(accuracy_op(y_train,y_pred))\n"
   ]
  },
  {
   "cell_type": "code",
   "execution_count": 30,
   "metadata": {},
   "outputs": [
    {
     "name": "stdout",
     "output_type": "stream",
     "text": [
      "Root mean square error 0.2717537631727966\n",
      "Mean square error 0.07385010779857643\n",
      "Mean absolute error 0.20168885910470324\n",
      "None\n"
     ]
    }
   ],
   "source": [
    "print(accuracy_op(y_test,yt_pred))\n"
   ]
  },
  {
   "cell_type": "code",
   "execution_count": null,
   "metadata": {},
   "outputs": [],
   "source": []
  },
  {
   "cell_type": "code",
   "execution_count": null,
   "metadata": {},
   "outputs": [],
   "source": []
  },
  {
   "cell_type": "code",
   "execution_count": null,
   "metadata": {},
   "outputs": [],
   "source": []
  }
 ],
 "metadata": {
  "colab": {
   "name": "SLR_SGD(1).ipynb",
   "provenance": []
  },
  "kernelspec": {
   "display_name": "Python 3",
   "language": "python",
   "name": "python3"
  },
  "language_info": {
   "codemirror_mode": {
    "name": "ipython",
    "version": 3
   },
   "file_extension": ".py",
   "mimetype": "text/x-python",
   "name": "python",
   "nbconvert_exporter": "python",
   "pygments_lexer": "ipython3",
   "version": "3.7.1"
  }
 },
 "nbformat": 4,
 "nbformat_minor": 1
}
