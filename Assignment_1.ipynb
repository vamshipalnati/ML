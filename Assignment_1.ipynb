{
 "cells": [
  {
   "cell_type": "code",
   "execution_count": 1,
   "metadata": {},
   "outputs": [
    {
     "data": {
      "text/plain": [
       "     con: array([], dtype=float64)\n",
       "     fun: -5778.9473684210525\n",
       " message: 'Optimization terminated successfully.'\n",
       "     nit: 3\n",
       "   slack: array([0.        , 0.        , 4.73684211])\n",
       "  status: 0\n",
       " success: True\n",
       "       x: array([97.89473684,  7.36842105])"
      ]
     },
     "execution_count": 1,
     "metadata": {},
     "output_type": "execute_result"
    }
   ],
   "source": [
    "from scipy.optimize import linprog\n",
    "obj_func=[-50,-120]\n",
    "lhs_inequality = [[10,30],[7000,2000],[1,1]]\n",
    "rhs_inequality = [[1200,700000,110]]\n",
    "\n",
    "# Giving the limits or boundaries to decision variables (x >= 0 and y >=0 )\n",
    "boundaries = [(0,float('inf')),(0,float('inf'))]\n",
    "optimiation = linprog(c = obj_func, A_ub =lhs_inequality, b_ub=rhs_inequality,bounds=boundaries,method='Simplex')\n",
    "optimiation # NOTE : after execution last line x: array([a,b]) where a and b are the only answers needed\n"
   ]
  },
  {
   "cell_type": "code",
   "execution_count": null,
   "metadata": {},
   "outputs": [],
   "source": []
  }
 ],
 "metadata": {
  "kernelspec": {
   "display_name": "Python 3",
   "language": "python",
   "name": "python3"
  },
  "language_info": {
   "codemirror_mode": {
    "name": "ipython",
    "version": 3
   },
   "file_extension": ".py",
   "mimetype": "text/x-python",
   "name": "python",
   "nbconvert_exporter": "python",
   "pygments_lexer": "ipython3",
   "version": "3.7.1"
  }
 },
 "nbformat": 4,
 "nbformat_minor": 4
}
