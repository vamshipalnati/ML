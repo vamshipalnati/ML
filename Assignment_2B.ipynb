{
 "cells": [
  {
   "cell_type": "code",
   "execution_count": 5,
   "metadata": {
    "colab": {},
    "colab_type": "code",
    "id": "vpLmHl7WKwVk"
   },
   "outputs": [],
   "source": [
    "xo=2\n",
    "eta=0.01\n",
    "eps=0.000001\n",
    "del_x=1\n",
    "max_iters=1000\n",
    "iters=0\n",
    "y,z=0,0"
   ]
  },
  {
   "cell_type": "code",
   "execution_count": 6,
   "metadata": {
    "colab": {},
    "colab_type": "code",
    "id": "BJj0OtjuKwSH"
   },
   "outputs": [],
   "source": [
    "def deriv(x):\n",
    "    y=x**3\n",
    "    z=4*y+6*x\n",
    "    \n",
    "    return z"
   ]
  },
  {
   "cell_type": "code",
   "execution_count": 7,
   "metadata": {
    "colab": {
     "base_uri": "https://localhost:8080/",
     "height": 1000
    },
    "colab_type": "code",
    "id": "_coeymnllWNo",
    "outputId": "f0699eea-0b1e-4694-8664-e56ca47acad7"
   },
   "outputs": [
    {
     "name": "stdout",
     "output_type": "stream",
     "text": [
      "Local minimum =  1.5114009452630606e-05\n"
     ]
    }
   ],
   "source": [
    "while abs(del_x)>eps and iters < max_iters:\n",
    "    prev_x = xo\n",
    "    del_x=-eta*deriv(prev_x)\n",
    "    xo=xo+del_x\n",
    "    iters+=1\n",
    "print(\"Local minimum = \",xo)"
   ]
  },
  {
   "cell_type": "code",
   "execution_count": null,
   "metadata": {},
   "outputs": [],
   "source": []
  },
  {
   "cell_type": "code",
   "execution_count": null,
   "metadata": {},
   "outputs": [],
   "source": []
  }
 ],
 "metadata": {
  "colab": {
   "collapsed_sections": [],
   "name": "Assignment-A2(B).ipynb",
   "provenance": []
  },
  "kernelspec": {
   "display_name": "Python 3",
   "language": "python",
   "name": "python3"
  },
  "language_info": {
   "codemirror_mode": {
    "name": "ipython",
    "version": 3
   },
   "file_extension": ".py",
   "mimetype": "text/x-python",
   "name": "python",
   "nbconvert_exporter": "python",
   "pygments_lexer": "ipython3",
   "version": "3.7.1"
  }
 },
 "nbformat": 4,
 "nbformat_minor": 1
}
